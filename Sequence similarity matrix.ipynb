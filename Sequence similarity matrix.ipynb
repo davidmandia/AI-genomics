{
 "cells": [
  {
   "cell_type": "code",
   "execution_count": 1,
   "id": "official-importance",
   "metadata": {},
   "outputs": [],
   "source": [
    "#genome sequence and search for patterns"
   ]
  },
  {
   "cell_type": "code",
   "execution_count": 2,
   "id": "interim-motel",
   "metadata": {},
   "outputs": [],
   "source": [
    "import pandas as pd\n",
    "import numpy as np\n",
    "\n",
    "pn = pd.read_csv('SARS_CORONAVIRUS_NC_045512_sequence.fasta', header = None)[1:][0]\n",
    "pn = pd.DataFrame(pn)\n",
    "pn.columns = ['Genome Sequence']"
   ]
  },
  {
   "cell_type": "code",
   "execution_count": 3,
   "id": "funny-johns",
   "metadata": {},
   "outputs": [],
   "source": [
    "# length and median lenght \n",
    "pn['Length'] = pn['Genome Sequence'].apply(lambda x: len(x))\n",
    "mid_length = np.median(pn['Length'])\n",
    "pn = pn[pn.Length == mid_length]"
   ]
  },
  {
   "cell_type": "code",
   "execution_count": 4,
   "id": "assumed-award",
   "metadata": {},
   "outputs": [],
   "source": [
    "#find matches to sequence \n",
    "pn['Match?'] = pn['Genome Sequence'].apply(lambda x: x.find('TAATTTAGGCATGCCTT'))\n",
    "pn['Match?'] = pn['Match?'].apply(lambda x: 0 if x == -1 else 1)"
   ]
  },
  {
   "cell_type": "code",
   "execution_count": 5,
   "id": "great-leonard",
   "metadata": {},
   "outputs": [],
   "source": [
    "#find number of different letters \n",
    "def diff_letters(a,b):\n",
    "    return sum ( a[i] != b[i] for i in range(len(a)) )\n",
    "\n",
    "differences = []\n",
    "for name, row in pn.iterrows():\n",
    "    temp_diff = []\n",
    "    for j in range(len(pn)):\n",
    "        temp_diff.append(diff_letters(row[0], pn.iloc[j]['Genome Sequence']))\n",
    "    differences.append(temp_diff)    "
   ]
  },
  {
   "cell_type": "code",
   "execution_count": null,
   "id": "sound-confidentiality",
   "metadata": {},
   "outputs": [],
   "source": [
    "\n",
    "##  two genome sequences that are most similar.  format (row1, row2)\n",
    "\n",
    "min_val = 1000\n",
    "similar = 0\n",
    "for i in range(len(differences)):\n",
    "    for j in range(len(differences[0])):\n",
    "        if differences[i][j] < min_val and differences[i][j] != 0:\n",
    "            min_val = differences[i][j]\n",
    "            similar = (i,j)"
   ]
  }
 ],
 "metadata": {
  "kernelspec": {
   "display_name": "Python 3",
   "language": "python",
   "name": "python3"
  },
  "language_info": {
   "codemirror_mode": {
    "name": "ipython",
    "version": 3
   },
   "file_extension": ".py",
   "mimetype": "text/x-python",
   "name": "python",
   "nbconvert_exporter": "python",
   "pygments_lexer": "ipython3",
   "version": "3.8.5"
  }
 },
 "nbformat": 4,
 "nbformat_minor": 5
}
